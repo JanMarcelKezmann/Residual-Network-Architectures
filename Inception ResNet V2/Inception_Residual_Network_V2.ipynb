{
  "nbformat": 4,
  "nbformat_minor": 0,
  "metadata": {
    "colab": {
      "name": "Residual Network V2.ipynb",
      "version": "0.3.2",
      "provenance": [],
      "collapsed_sections": [],
      "include_colab_link": true
    },
    "kernelspec": {
      "name": "python3",
      "display_name": "Python 3"
    },
    "accelerator": "GPU"
  },
  "cells": [
    {
      "cell_type": "markdown",
      "metadata": {
        "id": "view-in-github",
        "colab_type": "text"
      },
      "source": [
        "<a href=\"https://colab.research.google.com/github/JanMarcelKezmann/Residual-Network-Architectures/blob/master/Residual_Network_V2.ipynb\" target=\"_parent\"><img src=\"https://colab.research.google.com/assets/colab-badge.svg\" alt=\"Open In Colab\"/></a>"
      ]
    },
    {
      "cell_type": "code",
      "metadata": {
        "id": "Ck-mLg5Q5c5z",
        "colab_type": "code",
        "colab": {}
      },
      "source": [
        "import numpy as np\n",
        "import tensorflow as tf\n",
        "\n",
        "from IPython.display import SVG\n",
        "from matplotlib.pyplot import imshow\n",
        "%matplotlib inline\n",
        "\n",
        "import tensorflow.keras.backend as K\n",
        "K.set_image_data_format(\"channels_last\")\n",
        "K.set_learning_phase(1)\n",
        "\n",
        "from tensorflow.keras.initializers import glorot_uniform\n",
        "from tensorflow.keras.models import Model, load_model, save_model\n",
        "from tensorflow.keras.layers import Add, Dense, Flatten, Input, Conv2D, Activation, BatchNormalization, AveragePooling2D, ZeroPadding2D, MaxPooling2D\n",
        "from tensorflow.keras.optimizers import Adam"
      ],
      "execution_count": 0,
      "outputs": []
    },
    {
      "cell_type": "markdown",
      "metadata": {
        "id": "bx9r96iXefIb",
        "colab_type": "text"
      },
      "source": [
        "# Create The Core Building Blocks\n",
        "\n",
        "## Identity Block"
      ]
    },
    {
      "cell_type": "code",
      "metadata": {
        "id": "NNm9FPxZSSfq",
        "colab_type": "code",
        "colab": {}
      },
      "source": [
        "def identity_block(X, f, filters, stage, block):\n",
        "    conv_base_name = \"conv\" + str(stage) + block + \"_branch\"\n",
        "    bn_base_name = \"bn\" + str(stage) + block + \"_branch\"\n",
        "\n",
        "    # Filters\n",
        "    F1, F2, F3 = filters\n",
        "\n",
        "    # Save the Input X as Shortcut for later addition\n",
        "    X_shortcut = X\n",
        "\n",
        "    # Main Path\n",
        "    # First Component of Main Path\n",
        "    X = BatchNormalization(axis=3, name=bn_base_name + \"2a\")(X)\n",
        "    X = Activation(\"relu\")(X)\n",
        "    X = Conv2D(filters=F1, kernel_size=(1, 1), strides=(1, 1), padding=\"valid\", kernel_initializer=glorot_uniform(seed=0), name=conv_base_name + \"2a\")(X)\n",
        "\n",
        "    # Second Component of Main Path\n",
        "    X = BatchNormalization(axis=3, name=bn_base_name + \"2b\")(X)\n",
        "    X = Activation(\"relu\")(X)\n",
        "    X = Conv2D(filters=F2, kernel_size=(f, f), strides=(1, 1), padding=\"same\", kernel_initializer=glorot_uniform(seed=0), name=conv_base_name + \"2b\")(X)\n",
        "\n",
        "    # third Component of Main Path\n",
        "    X = BatchNormalization(axis=3, name=bn_base_name + \"2c\")(X)\n",
        "    X = Activation(\"relu\")(X)\n",
        "    X = Conv2D(filters=F3, kernel_size=(1, 1), strides=(1, 1), padding=\"valid\", kernel_initializer=glorot_uniform(seed=0), name=conv_base_name + \"2c\")(X)\n",
        "\n",
        "    # Final Stage\n",
        "    # Add Shortcut Path and Main Path\n",
        "    X = Add()([X_shortcut, X])\n",
        "    X = Activation(\"relu\")(X) # is Activation neccessary\n",
        "\n",
        "    return X"
      ],
      "execution_count": 0,
      "outputs": []
    },
    {
      "cell_type": "markdown",
      "metadata": {
        "id": "LJNtMra1e1Ru",
        "colab_type": "text"
      },
      "source": [
        "## Convolutional Block"
      ]
    },
    {
      "cell_type": "code",
      "metadata": {
        "id": "oK21ZyVfez7p",
        "colab_type": "code",
        "colab": {}
      },
      "source": [
        "def convolutional_block(X, f, filters, stage, block, strides=2):\n",
        "    conv_base_name = \"conv\" + str(stage) + block + \"_branch\"\n",
        "    bn_base_name = \"bn\" + str(stage) + block + \"_branch\"\n",
        "\n",
        "    # Filters\n",
        "    F1, F2, F3 = filters\n",
        "\n",
        "    # Save the input X as Shortcut for later addition\n",
        "    X_shortcut = X\n",
        "\n",
        "    # Main Path\n",
        "    # First Component of Main Path\n",
        "    X = BatchNormalization(axis=3, name=bn_base_name + \"2a\")(X)\n",
        "    X = Activation(\"relu\")(X)\n",
        "    X = Conv2D(filters=F1, kernel_size=(1, 1), strides=(strides, strides), padding=\"valid\", kernel_initializer=glorot_uniform(seed=0), name=conv_base_name + \"2a\")(X)\n",
        "\n",
        "    # Second Component of Main Path\n",
        "    X = BatchNormalization(axis=3, name=bn_base_name + \"2b\")(X)\n",
        "    X = Activation(\"relu\")(X)\n",
        "    X = Conv2D(filters=F2, kernel_size=(f, f), strides=(1, 1), padding=\"same\", kernel_initializer=glorot_uniform(seed=0), name=conv_base_name + \"2b\")(X)\n",
        "\n",
        "    # Third Component of Main Path\n",
        "    X = BatchNormalization(axis=3, name=bn_base_name + \"2c\")(X)\n",
        "    X = Activation(\"relu\")(X)\n",
        "    X = Conv2D(filters=F3, kernel_size=(1, 1), strides=(1, 1), padding=\"valid\", kernel_initializer=glorot_uniform(seed=0), name=conv_base_name + \"2c\")(X)\n",
        "\n",
        "    # Shortcut Path\n",
        "    X_shortcut = BatchNormalization(axis=3, name=bn_base_name + \"1\")(X_shortcut)\n",
        "    X_shortcut = Conv2D(filters=F3, kernel_size=(1, 1), strides=(strides, strides), padding=\"valid\", kernel_initializer=glorot_uniform(seed=0), name=conv_base_name + \"1\")(X_shortcut)\n",
        "\n",
        "    # Final Stage\n",
        "    # Add Shortcut Path and Main Path\n",
        "    X = Add()([X_shortcut, X])\n",
        "    X = Activation(\"relu\")(X)\n",
        "\n",
        "    return X"
      ],
      "execution_count": 0,
      "outputs": []
    },
    {
      "cell_type": "code",
      "metadata": {
        "id": "WgqEcOUiiZ9q",
        "colab_type": "code",
        "outputId": "37896dc2-762d-43da-cfca-326e06067d95",
        "colab": {
          "base_uri": "https://localhost:8080/",
          "height": 51
        }
      },
      "source": [
        "tf.reset_default_graph()\n",
        "\n",
        "with tf.Session() as sess:\n",
        "    np.random.seed(1)\n",
        "    A_prev = tf.placeholder(\"float\", [3, 4, 4, 6])\n",
        "    X = np.random.randn(3, 4, 4, 6)\n",
        "    A = identity_block(A_prev, f=3, filters=[2, 4, 6], stage=1, block=\"a\")\n",
        "    sess.run(tf.global_variables_initializer())\n",
        "\n",
        "    out = sess.run([A], feed_dict={A_prev: X, K.learning_phase(): 0})\n",
        "    print(\"out = \" + str(out[0][0][0][0]))\n",
        "    print(np.size(out))"
      ],
      "execution_count": 0,
      "outputs": [
        {
          "output_type": "stream",
          "text": [
            "out = [1.7617835 0.        0.        0.        1.6413738 0.       ]\n",
            "288\n"
          ],
          "name": "stdout"
        }
      ]
    },
    {
      "cell_type": "markdown",
      "metadata": {
        "id": "TVJEwXzNiBjU",
        "colab_type": "text"
      },
      "source": [
        "# Create ResNetV2-164 Model"
      ]
    },
    {
      "cell_type": "code",
      "metadata": {
        "id": "dnS2CNrZh_zt",
        "colab_type": "code",
        "colab": {}
      },
      "source": [
        "def ResNetV2_164(input_shape=(32, 32, 3), classes=100):\n",
        "    # Define Tensor with shape input_shape\n",
        "    X_input = Input(input_shape)\n",
        "    print(X_input.shape)\n",
        "\n",
        "    # ZeroPadding\n",
        "    X = ZeroPadding2D((3, 3))(X_input)\n",
        "    print(X.shape)\n",
        "\n",
        "    # First Stage\n",
        "    X = Conv2D(64, kernel_size=(7, 7), strides=(2, 2), name=\"conv1\", kernel_initializer=glorot_uniform(seed=0))(X)\n",
        "    X = BatchNormalization(axis=3, name=\"bn_conv1\")(X)\n",
        "    X = Activation(\"relu\")(X)\n",
        "    print(X.shape)\n",
        "\n",
        "    X = MaxPooling2D((3, 3), strides=(2, 2))(X)\n",
        "    print(X.shape)\n",
        "\n",
        "    # Stage 2\n",
        "    X = convolutional_block(X, f=3, filters=[64, 64, 256], stage=2, block=\"a\", strides=1)\n",
        "    X = identity_block(X, f=3, filters=[64, 64, 256], stage=2, block=\"b\")\n",
        "    X = identity_block(X, f=3, filters=[64, 64, 256], stage=2, block=\"c\")\n",
        "    print(X.shape)\n",
        "\n",
        "    # Stage 3\n",
        "    X = convolutional_block(X, f=4, filters=[128, 128, 512], stage=3, block=\"a\", strides=2)\n",
        "    X = identity_block(X, f=4, filters=[128, 128, 512], stage=3, block=\"b\")\n",
        "    X = identity_block(X, f=4, filters=[128, 128, 512], stage=3, block=\"c\")\n",
        "    X = identity_block(X, f=4, filters=[128, 128, 512], stage=3, block=\"d\")\n",
        "    X = identity_block(X, f=4, filters=[128, 128, 512], stage=3, block=\"e\")\n",
        "    X = identity_block(X, f=4, filters=[128, 128, 512], stage=3, block=\"f\")\n",
        "    X = identity_block(X, f=4, filters=[128, 128, 512], stage=3, block=\"g\")\n",
        "    X = identity_block(X, f=4, filters=[128, 128, 512], stage=3, block=\"h\")\n",
        "    print(X.shape)\n",
        "\n",
        "    # Stage 4\n",
        "    X = convolutional_block(X, f=6, filters=[256, 256, 1024], stage=4, block=\"a\", strides=2)\n",
        "    X = identity_block(X, f=6, filters=[256, 256, 1024], stage=4, block=\"b\")\n",
        "    X = identity_block(X, f=6, filters=[256, 256, 1024], stage=4, block=\"c\")\n",
        "    X = identity_block(X, f=6, filters=[256, 256, 1024], stage=4, block=\"d\")\n",
        "    X = identity_block(X, f=6, filters=[256, 256, 1024], stage=4, block=\"e\")\n",
        "    X = identity_block(X, f=6, filters=[256, 256, 1024], stage=4, block=\"f\")\n",
        "    X = identity_block(X, f=6, filters=[256, 256, 1024], stage=4, block=\"g\")\n",
        "    X = identity_block(X, f=6, filters=[256, 256, 1024], stage=4, block=\"h\")\n",
        "    X = identity_block(X, f=6, filters=[256, 256, 1024], stage=4, block=\"i\")\n",
        "    X = identity_block(X, f=6, filters=[256, 256, 1024], stage=4, block=\"j\")\n",
        "\n",
        "    X = identity_block(X, f=6, filters=[256, 256, 1024], stage=4, block=\"k\")\n",
        "    X = identity_block(X, f=6, filters=[256, 256, 1024], stage=4, block=\"l\")\n",
        "    X = identity_block(X, f=6, filters=[256, 256, 1024], stage=4, block=\"m\")\n",
        "    X = identity_block(X, f=6, filters=[256, 256, 1024], stage=4, block=\"n\")\n",
        "    X = identity_block(X, f=6, filters=[256, 256, 1024], stage=4, block=\"o\")\n",
        "    X = identity_block(X, f=6, filters=[256, 256, 1024], stage=4, block=\"p\")\n",
        "    X = identity_block(X, f=6, filters=[256, 256, 1024], stage=4, block=\"q\")\n",
        "    X = identity_block(X, f=6, filters=[256, 256, 1024], stage=4, block=\"r\")\n",
        "    X = identity_block(X, f=6, filters=[256, 256, 1024], stage=4, block=\"s\")\n",
        "    X = identity_block(X, f=6, filters=[256, 256, 1024], stage=4, block=\"t\")\n",
        "\n",
        "    X = identity_block(X, f=6, filters=[256, 256, 1024], stage=4, block=\"u\")\n",
        "    X = identity_block(X, f=6, filters=[256, 256, 1024], stage=4, block=\"v\")\n",
        "    X = identity_block(X, f=6, filters=[256, 256, 1024], stage=4, block=\"w\")\n",
        "    X = identity_block(X, f=6, filters=[256, 256, 1024], stage=4, block=\"x\")\n",
        "    X = identity_block(X, f=6, filters=[256, 256, 1024], stage=4, block=\"y\")\n",
        "    X = identity_block(X, f=6, filters=[256, 256, 1024], stage=4, block=\"z\")\n",
        "    X = identity_block(X, f=6, filters=[256, 256, 1024], stage=4, block=\"aa\")\n",
        "    X = identity_block(X, f=6, filters=[256, 256, 1024], stage=4, block=\"ab\")\n",
        "    X = identity_block(X, f=6, filters=[256, 256, 1024], stage=4, block=\"ac\")\n",
        "    X = identity_block(X, f=6, filters=[256, 256, 1024], stage=4, block=\"ad\")\n",
        "\n",
        "    X = identity_block(X, f=6, filters=[256, 256, 1024], stage=4, block=\"ae\")\n",
        "    X = identity_block(X, f=6, filters=[256, 256, 1024], stage=4, block=\"af\")\n",
        "    X = identity_block(X, f=6, filters=[256, 256, 1024], stage=4, block=\"ag\")\n",
        "    X = identity_block(X, f=6, filters=[256, 256, 1024], stage=4, block=\"ah\")\n",
        "    X = identity_block(X, f=6, filters=[256, 256, 1024], stage=4, block=\"ai\")\n",
        "    X = identity_block(X, f=6, filters=[256, 256, 1024], stage=4, block=\"aj\")\n",
        "    X = identity_block(X, f=6, filters=[256, 256, 1024], stage=4, block=\"ak\")\n",
        "    X = identity_block(X, f=6, filters=[256, 256, 1024], stage=4, block=\"al\")\n",
        "    X = identity_block(X, f=6, filters=[256, 256, 1024], stage=4, block=\"am\")\n",
        "    X = identity_block(X, f=6, filters=[256, 256, 1024], stage=4, block=\"an\")\n",
        "    print(X.shape)\n",
        "\n",
        "    # Stage 5\n",
        "    X = convolutional_block(X, f=3, filters=[512, 512, 2048], stage=5, block=\"a\", strides=3)\n",
        "    X = identity_block(X, f=3, filters=[512, 512, 2048], stage=5, block=\"b\")\n",
        "    X = identity_block(X, f=3, filters=[512, 512, 2048], stage=5, block=\"c\")\n",
        "    print(X.shape)\n",
        "\n",
        "    # Final Stage\n",
        "    #   X = AveragePooling2D((2, 2))(X)\n",
        "    X = Flatten()(X)\n",
        "    X = Dense(classes, activation=\"softmax\", name=\"fc\" + str(classes), kernel_initializer=glorot_uniform(seed=0))(X)\n",
        "    print(X.shape)\n",
        "\n",
        "    # Create Model\n",
        "    model = Model(inputs=X_input, outputs=X, name=\"ResNetV2-164\")\n",
        "\n",
        "    return model"
      ],
      "execution_count": 0,
      "outputs": []
    },
    {
      "cell_type": "code",
      "metadata": {
        "id": "nRtvcYjsuoot",
        "colab_type": "code",
        "colab": {}
      },
      "source": [
        "def random_mini_batches(X, y, mini_batch_size=32, seed=0):\n",
        "    m = X.shape[0]\n",
        "    mini_batches = []\n",
        "    np.random.seed(seed)\n",
        "\n",
        "    # Step 1: shuffle (X, y)\n",
        "    permutation = list(np.random.permutation(m))\n",
        "    shuffled_X = X[permutation, :, :, :]\n",
        "    shuffled_y = X[permutation, :]\n",
        "\n",
        "    # Step 2: partition (shuffled_X, shuffled_y)\n",
        "    num_complete_minibatches = math.floor(m / mini_batch_size)\n",
        "    for k in range(0, num_complete_minibatches):\n",
        "    mini_batch_X = shuffled_X[k * mini_batch_size:(k + 1) * mini_batch_size, :, :, :]\n",
        "    mini_batch_y = shuffled_y[k * mini_batch_size:(k + 1) * mini_batch_size, :]\n",
        "    mini_batch = (mini_batch_X, mini_batch_y)\n",
        "    mini_batches.append(mini_batch)\n",
        "\n",
        "    # handling the rest case\n",
        "    if m % mini_batch_size != 0:\n",
        "    mini_batch_X = shuffled_X[num_complete_minibatches * mini_batch_size:m, :, :, :]\n",
        "    mini_batch_y = shuffled_y[num_complete_minibatches * mini_batch_size:m, :]\n",
        "    mini_batch = (mini_batch_X, mini_batch_y)\n",
        "    mini_batches.append(mini_batch)\n",
        "\n",
        "    return mini_batches"
      ],
      "execution_count": 0,
      "outputs": []
    },
    {
      "cell_type": "code",
      "metadata": {
        "id": "sbJaevQmurbo",
        "colab_type": "code",
        "colab": {}
      },
      "source": [
        "def convert_to_one_hot(y, classes):\n",
        "    y = np.eye(int(classes))[y.reshape(-1)].T\n",
        "    return y"
      ],
      "execution_count": 0,
      "outputs": []
    },
    {
      "cell_type": "code",
      "metadata": {
        "id": "diO2HsYzuuHQ",
        "colab_type": "code",
        "colab": {}
      },
      "source": [
        "def forward_prop_for_pred(X, params):\n",
        "    # Retrieve the parameters from the dictionairy \"parameters\"\n",
        "    W1 = params[\"W1\"]\n",
        "    b1 = params[\"b1\"]\n",
        "    W2 = params[\"W2\"]\n",
        "    b2 = params[\"b2\"]\n",
        "    W3 = params[\"W3\"]\n",
        "    b3 = params[\"b3\"]\n",
        "\n",
        "    Z1 = tf.add(tf.matmul(W1, X), b1)\n",
        "    A1 = tf.nn.relu(Z1)\n",
        "    Z2 = tf.add(tf.matmul(W2, A1), b2)\n",
        "    A2 = tf.nn.relu(Z2)\n",
        "    Z3 = tf.add(tf.matmul(W3, A2), b3)\n",
        "\n",
        "    return Z3"
      ],
      "execution_count": 0,
      "outputs": []
    },
    {
      "cell_type": "code",
      "metadata": {
        "id": "3Unq3kb1uwBO",
        "colab_type": "code",
        "colab": {}
      },
      "source": [
        "def predict(X, parameters):\n",
        "    m = X.shape()\n",
        "    W1 = tf.convert_to_tensor(params[\"W1\"])\n",
        "    b1 = tf.convert_to_tensor(params[\"b1\"])\n",
        "    W2 = tf.convert_to_tensor(params[\"W2\"])\n",
        "    b2 = tf.convert_to_tensor(params[\"b2\"])\n",
        "    W3 = tf.convert_to_tensor(params[\"W3\"])\n",
        "    b3 = tf.convert_to_tensor(params[\"b3\"])\n",
        "\n",
        "    parameters = {\"W1\": W1, \"b1\": b1, \"W2\": W2, \"b2\": b2, \"W3\": W3, \"b3\": b3}\n",
        "\n",
        "    var = tf.placeholder(\"float\", [m, 1])\n",
        "\n",
        "    z3 = forward_prop_for_pred(X, params)\n",
        "    p = tf.argmax(z3)\n",
        "\n",
        "    sess = tf.Session()\n",
        "    prediction = sess.run(p, feed_dict={x: X})\n",
        "\n",
        "    return prediction"
      ],
      "execution_count": 0,
      "outputs": []
    },
    {
      "cell_type": "code",
      "metadata": {
        "id": "UYgq-FO-uyR3",
        "colab_type": "code",
        "outputId": "01de500a-6dee-4bcd-dd81-0964c1d786dc",
        "colab": {
          "base_uri": "https://localhost:8080/",
          "height": 85
        }
      },
      "source": [
        "from tensorflow.keras.datasets import cifar100, mnist\n",
        "\n",
        "(X_train_cifar100, y_train_cifar100), (X_test_cifar100, y_test_cifar100) = cifar100.load_data()\n",
        "print(X_train_cifar100.shape)\n",
        "print(X_test_cifar100.shape)\n",
        "\n",
        "(X_train_mnist, y_train_mnist), (X_test_mnist, y_test_mnist) = mnist.load_data()\n",
        "X_train_mnist = X_train_mnist.reshape(60000, 28, 28, -1)\n",
        "X_test_mnist = X_test_mnist.reshape(10000, 28, 28, -1)\n",
        "print(X_train_mnist.shape)\n",
        "print(X_test_mnist.shape)"
      ],
      "execution_count": 0,
      "outputs": [
        {
          "output_type": "stream",
          "text": [
            "(50000, 32, 32, 3)\n",
            "(10000, 32, 32, 3)\n",
            "(60000, 28, 28, 1)\n",
            "(10000, 28, 28, 1)\n"
          ],
          "name": "stdout"
        }
      ]
    },
    {
      "cell_type": "code",
      "metadata": {
        "id": "MD9mz5MYu3E3",
        "colab_type": "code",
        "outputId": "85814e78-3e0e-4b37-fb90-f18806a73b0e",
        "colab": {
          "base_uri": "https://localhost:8080/",
          "height": 323
        }
      },
      "source": [
        "model_cifar100 = ResNetV2_164(input_shape=(32, 32, 3), classes=100)\n",
        "model_cifar100.compile(optimizer=\"adam\", loss=\"categorical_crossentropy\", metrics=[\"accuracy\"])\n",
        "\n",
        "model_mnist = ResNetV2_164(input_shape=(28, 28, 1), classes=10)\n",
        "# global_step = tf.Variable(0, trainable=False)\n",
        "# learning_rate = 0.001\n",
        "# decayed_lr = tf.train.exponential_decay(learning_rate, global_step, 240000, 0.94, staircase=True)\n",
        "# opt = tf.train.AdamOptimizer(decayed_lr)\n",
        "adam = Adam(lr=0.001, beta_1=0.9, beta_2=0.999, epsilon=None, decay=0.001, amsgrad=False)\n",
        "model_mnist.compile(optimizer=adam, loss=\"categorical_crossentropy\", metrics=[\"accuracy\"])"
      ],
      "execution_count": 0,
      "outputs": [
        {
          "output_type": "stream",
          "text": [
            "(?, 32, 32, 3)\n",
            "(?, 38, 38, 3)\n",
            "(?, 16, 16, 64)\n",
            "(?, 7, 7, 64)\n",
            "(?, 7, 7, 256)\n",
            "(?, 4, 4, 512)\n",
            "(?, 2, 2, 1024)\n",
            "(?, 1, 1, 2048)\n",
            "(?, 100)\n",
            "(?, 28, 28, 1)\n",
            "(?, 34, 34, 1)\n",
            "(?, 14, 14, 64)\n",
            "(?, 6, 6, 64)\n",
            "(?, 6, 6, 256)\n",
            "(?, 3, 3, 512)\n",
            "(?, 2, 2, 1024)\n",
            "(?, 1, 1, 2048)\n",
            "(?, 10)\n"
          ],
          "name": "stdout"
        }
      ]
    },
    {
      "cell_type": "code",
      "metadata": {
        "id": "j0LK54P0vIvm",
        "colab_type": "code",
        "outputId": "cd5578af-aca0-484b-cbe3-a9918a48d13a",
        "colab": {
          "base_uri": "https://localhost:8080/",
          "height": 286
        }
      },
      "source": [
        "imshow(X_train_mnist[2].reshape(28, 28))"
      ],
      "execution_count": 0,
      "outputs": [
        {
          "output_type": "execute_result",
          "data": {
            "text/plain": [
              "<matplotlib.image.AxesImage at 0x7f40a118d208>"
            ]
          },
          "metadata": {
            "tags": []
          },
          "execution_count": 25
        },
        {
          "output_type": "display_data",
          "data": {
            "image/png": "[encoded data removed]",
            "text/plain": [
              "<Figure size 432x288 with 1 Axes>"
            ]
          },
          "metadata": {
            "tags": []
          }
        }
      ]
    },
    {
      "cell_type": "code",
      "metadata": {
        "id": "aQD4A_XVvPNZ",
        "colab_type": "code",
        "outputId": "6f9df3cb-b09f-45c2-fd74-bbdb0134c461",
        "colab": {
          "base_uri": "https://localhost:8080/",
          "height": 119
        }
      },
      "source": [
        "# normalize image vectors\n",
        "X_train_cifar100 = X_train_cifar100 / 255.0\n",
        "X_test_cifar100 = X_test_cifar100 / 255.0\n",
        "\n",
        "# convert training and test labels to one hot encoded matrices\n",
        "y_train_cifar100 = convert_to_one_hot(y_train_cifar100, 100).T\n",
        "y_test_cifar100 = convert_to_one_hot(y_test_cifar100, 100).T\n",
        "\n",
        "print(\"number of training examples = \" + str(X_train_cifar100.shape[0]))\n",
        "print(\"number of test examples = \" + str(X_test_cifar100.shape[0]))\n",
        "print(\"X_train shape: \" + str(X_train_cifar100.shape))\n",
        "print(\"y_train shape: \" + str(y_train_cifar100.shape))\n",
        "print(\"X_test shape: \" + str(X_test_cifar100.shape))\n",
        "print(\"y_test shape: \" + str(y_test_cifar100.shape))"
      ],
      "execution_count": 0,
      "outputs": [
        {
          "output_type": "stream",
          "text": [
            "number of training examples = 50000\n",
            "number of test examples = 10000\n",
            "X_train shape: (50000, 32, 32, 3)\n",
            "y_train shape: (50000, 100)\n",
            "X_test shape: (10000, 32, 32, 3)\n",
            "y_test shape: (10000, 100)\n"
          ],
          "name": "stdout"
        }
      ]
    },
    {
      "cell_type": "code",
      "metadata": {
        "id": "OwsyBr8vvRdm",
        "colab_type": "code",
        "outputId": "9c6d2fb2-360c-48bb-e544-2acc9fd12837",
        "colab": {
          "base_uri": "https://localhost:8080/",
          "height": 394
        }
      },
      "source": [
        "model_cifar100.fit(X_train_cifar100, y_train_cifar100, epochs=20, batch_size=50)\n",
        "predictions = model_cifar100.evaluate(X_test_cifar100, y_test_cifar100)\n",
        "\n",
        "print(\"Loss: \" + str(predictions[0]))\n",
        "print(\"Test Accuracy \" + str(predictions[1]))"
      ],
      "execution_count": 0,
      "outputs": [
        {
          "output_type": "error",
          "ename": "KeyboardInterrupt",
          "evalue": "ignored",
          "traceback": [
            "\u001b[0;31m---------------------------------------------------------------------------\u001b[0m",
            "\u001b[0;31mKeyboardInterrupt\u001b[0m                         Traceback (most recent call last)",
            "\u001b[0;32m<ipython-input-27-9ed7a61988ac>\u001b[0m in \u001b[0;36m<module>\u001b[0;34m()\u001b[0m\n\u001b[0;32m----> 1\u001b[0;31m \u001b[0mmodel_cifar100\u001b[0m\u001b[0;34m.\u001b[0m\u001b[0mfit\u001b[0m\u001b[0;34m(\u001b[0m\u001b[0mX_train_cifar100\u001b[0m\u001b[0;34m,\u001b[0m \u001b[0my_train_cifar100\u001b[0m\u001b[0;34m,\u001b[0m \u001b[0mepochs\u001b[0m\u001b[0;34m=\u001b[0m\u001b[0;36m20\u001b[0m\u001b[0;34m,\u001b[0m \u001b[0mbatch_size\u001b[0m\u001b[0;34m=\u001b[0m\u001b[0;36m50\u001b[0m\u001b[0;34m)\u001b[0m\u001b[0;34m\u001b[0m\u001b[0;34m\u001b[0m\u001b[0m\n\u001b[0m\u001b[1;32m      2\u001b[0m \u001b[0mpredictions\u001b[0m \u001b[0;34m=\u001b[0m \u001b[0mmodel_cifar100\u001b[0m\u001b[0;34m.\u001b[0m\u001b[0mevaluate\u001b[0m\u001b[0;34m(\u001b[0m\u001b[0mX_test_cifar100\u001b[0m\u001b[0;34m,\u001b[0m \u001b[0my_test_cifar100\u001b[0m\u001b[0;34m)\u001b[0m\u001b[0;34m\u001b[0m\u001b[0;34m\u001b[0m\u001b[0m\n\u001b[1;32m      3\u001b[0m \u001b[0;34m\u001b[0m\u001b[0m\n\u001b[1;32m      4\u001b[0m \u001b[0mprint\u001b[0m\u001b[0;34m(\u001b[0m\u001b[0;34m\"Loss: \"\u001b[0m \u001b[0;34m+\u001b[0m \u001b[0mstr\u001b[0m\u001b[0;34m(\u001b[0m\u001b[0mpredictions\u001b[0m\u001b[0;34m[\u001b[0m\u001b[0;36m0\u001b[0m\u001b[0;34m]\u001b[0m\u001b[0;34m)\u001b[0m\u001b[0;34m)\u001b[0m\u001b[0;34m\u001b[0m\u001b[0;34m\u001b[0m\u001b[0m\n\u001b[1;32m      5\u001b[0m \u001b[0mprint\u001b[0m\u001b[0;34m(\u001b[0m\u001b[0;34m\"Test Accuracy \"\u001b[0m \u001b[0;34m+\u001b[0m \u001b[0mstr\u001b[0m\u001b[0;34m(\u001b[0m\u001b[0mpredictions\u001b[0m\u001b[0;34m[\u001b[0m\u001b[0;36m1\u001b[0m\u001b[0;34m]\u001b[0m\u001b[0;34m)\u001b[0m\u001b[0;34m)\u001b[0m\u001b[0;34m\u001b[0m\u001b[0;34m\u001b[0m\u001b[0m\n",
            "\u001b[0;32m/usr/local/lib/python3.6/dist-packages/tensorflow/python/keras/engine/training.py\u001b[0m in \u001b[0;36mfit\u001b[0;34m(self, x, y, batch_size, epochs, verbose, callbacks, validation_split, validation_data, shuffle, class_weight, sample_weight, initial_epoch, steps_per_epoch, validation_steps, validation_freq, max_queue_size, workers, use_multiprocessing, **kwargs)\u001b[0m\n\u001b[1;32m    778\u001b[0m           \u001b[0mvalidation_steps\u001b[0m\u001b[0;34m=\u001b[0m\u001b[0mvalidation_steps\u001b[0m\u001b[0;34m,\u001b[0m\u001b[0;34m\u001b[0m\u001b[0;34m\u001b[0m\u001b[0m\n\u001b[1;32m    779\u001b[0m           \u001b[0mvalidation_freq\u001b[0m\u001b[0;34m=\u001b[0m\u001b[0mvalidation_freq\u001b[0m\u001b[0;34m,\u001b[0m\u001b[0;34m\u001b[0m\u001b[0;34m\u001b[0m\u001b[0m\n\u001b[0;32m--> 780\u001b[0;31m           steps_name='steps_per_epoch')\n\u001b[0m\u001b[1;32m    781\u001b[0m \u001b[0;34m\u001b[0m\u001b[0m\n\u001b[1;32m    782\u001b[0m   def evaluate(self,\n",
            "\u001b[0;32m/usr/local/lib/python3.6/dist-packages/tensorflow/python/keras/engine/training_arrays.py\u001b[0m in \u001b[0;36mmodel_iteration\u001b[0;34m(model, inputs, targets, sample_weights, batch_size, epochs, verbose, callbacks, val_inputs, val_targets, val_sample_weights, shuffle, initial_epoch, steps_per_epoch, validation_steps, validation_freq, mode, validation_in_fit, prepared_feed_values_from_dataset, steps_name, **kwargs)\u001b[0m\n\u001b[1;32m    155\u001b[0m \u001b[0;34m\u001b[0m\u001b[0m\n\u001b[1;32m    156\u001b[0m   \u001b[0;31m# Get step function and loop type.\u001b[0m\u001b[0;34m\u001b[0m\u001b[0;34m\u001b[0m\u001b[0;34m\u001b[0m\u001b[0m\n\u001b[0;32m--> 157\u001b[0;31m   \u001b[0mf\u001b[0m \u001b[0;34m=\u001b[0m \u001b[0m_make_execution_function\u001b[0m\u001b[0;34m(\u001b[0m\u001b[0mmodel\u001b[0m\u001b[0;34m,\u001b[0m \u001b[0mmode\u001b[0m\u001b[0;34m)\u001b[0m\u001b[0;34m\u001b[0m\u001b[0;34m\u001b[0m\u001b[0m\n\u001b[0m\u001b[1;32m    158\u001b[0m   \u001b[0muse_steps\u001b[0m \u001b[0;34m=\u001b[0m \u001b[0mis_dataset\u001b[0m \u001b[0;32mor\u001b[0m \u001b[0msteps_per_epoch\u001b[0m \u001b[0;32mis\u001b[0m \u001b[0;32mnot\u001b[0m \u001b[0;32mNone\u001b[0m\u001b[0;34m\u001b[0m\u001b[0;34m\u001b[0m\u001b[0m\n\u001b[1;32m    159\u001b[0m   \u001b[0mdo_validation\u001b[0m \u001b[0;34m=\u001b[0m \u001b[0mval_inputs\u001b[0m \u001b[0;32mis\u001b[0m \u001b[0;32mnot\u001b[0m \u001b[0;32mNone\u001b[0m\u001b[0;34m\u001b[0m\u001b[0;34m\u001b[0m\u001b[0m\n",
            "\u001b[0;32m/usr/local/lib/python3.6/dist-packages/tensorflow/python/keras/engine/training_arrays.py\u001b[0m in \u001b[0;36m_make_execution_function\u001b[0;34m(model, mode)\u001b[0m\n\u001b[1;32m    530\u001b[0m   \u001b[0;32mif\u001b[0m \u001b[0mmodel\u001b[0m\u001b[0;34m.\u001b[0m\u001b[0m_distribution_strategy\u001b[0m\u001b[0;34m:\u001b[0m\u001b[0;34m\u001b[0m\u001b[0;34m\u001b[0m\u001b[0m\n\u001b[1;32m    531\u001b[0m     \u001b[0;32mreturn\u001b[0m \u001b[0mdistributed_training_utils\u001b[0m\u001b[0;34m.\u001b[0m\u001b[0m_make_execution_function\u001b[0m\u001b[0;34m(\u001b[0m\u001b[0mmodel\u001b[0m\u001b[0;34m,\u001b[0m \u001b[0mmode\u001b[0m\u001b[0;34m)\u001b[0m\u001b[0;34m\u001b[0m\u001b[0;34m\u001b[0m\u001b[0m\n\u001b[0;32m--> 532\u001b[0;31m   \u001b[0;32mreturn\u001b[0m \u001b[0mmodel\u001b[0m\u001b[0;34m.\u001b[0m\u001b[0m_make_execution_function\u001b[0m\u001b[0;34m(\u001b[0m\u001b[0mmode\u001b[0m\u001b[0;34m)\u001b[0m\u001b[0;34m\u001b[0m\u001b[0;34m\u001b[0m\u001b[0m\n\u001b[0m\u001b[1;32m    533\u001b[0m \u001b[0;34m\u001b[0m\u001b[0m\n\u001b[1;32m    534\u001b[0m \u001b[0;34m\u001b[0m\u001b[0m\n",
            "\u001b[0;32m/usr/local/lib/python3.6/dist-packages/tensorflow/python/keras/engine/training.py\u001b[0m in \u001b[0;36m_make_execution_function\u001b[0;34m(self, mode)\u001b[0m\n\u001b[1;32m   2274\u001b[0m   \u001b[0;32mdef\u001b[0m \u001b[0m_make_execution_function\u001b[0m\u001b[0;34m(\u001b[0m\u001b[0mself\u001b[0m\u001b[0;34m,\u001b[0m \u001b[0mmode\u001b[0m\u001b[0;34m)\u001b[0m\u001b[0;34m:\u001b[0m\u001b[0;34m\u001b[0m\u001b[0;34m\u001b[0m\u001b[0m\n\u001b[1;32m   2275\u001b[0m     \u001b[0;32mif\u001b[0m \u001b[0mmode\u001b[0m \u001b[0;34m==\u001b[0m \u001b[0mModeKeys\u001b[0m\u001b[0;34m.\u001b[0m\u001b[0mTRAIN\u001b[0m\u001b[0;34m:\u001b[0m\u001b[0;34m\u001b[0m\u001b[0;34m\u001b[0m\u001b[0m\n\u001b[0;32m-> 2276\u001b[0;31m       \u001b[0mself\u001b[0m\u001b[0;34m.\u001b[0m\u001b[0m_make_train_function\u001b[0m\u001b[0;34m(\u001b[0m\u001b[0;34m)\u001b[0m\u001b[0;34m\u001b[0m\u001b[0;34m\u001b[0m\u001b[0m\n\u001b[0m\u001b[1;32m   2277\u001b[0m       \u001b[0;32mreturn\u001b[0m \u001b[0mself\u001b[0m\u001b[0;34m.\u001b[0m\u001b[0mtrain_function\u001b[0m\u001b[0;34m\u001b[0m\u001b[0;34m\u001b[0m\u001b[0m\n\u001b[1;32m   2278\u001b[0m     \u001b[0;32mif\u001b[0m \u001b[0mmode\u001b[0m \u001b[0;34m==\u001b[0m \u001b[0mModeKeys\u001b[0m\u001b[0;34m.\u001b[0m\u001b[0mTEST\u001b[0m\u001b[0;34m:\u001b[0m\u001b[0;34m\u001b[0m\u001b[0;34m\u001b[0m\u001b[0m\n",
            "\u001b[0;32m/usr/local/lib/python3.6/dist-packages/tensorflow/python/keras/engine/training.py\u001b[0m in \u001b[0;36m_make_train_function\u001b[0;34m(self)\u001b[0m\n\u001b[1;32m   2217\u001b[0m           \u001b[0;31m# Training updates\u001b[0m\u001b[0;34m\u001b[0m\u001b[0;34m\u001b[0m\u001b[0;34m\u001b[0m\u001b[0m\n\u001b[1;32m   2218\u001b[0m           updates = self.optimizer.get_updates(\n\u001b[0;32m-> 2219\u001b[0;31m               params=self._collected_trainable_weights, loss=self.total_loss)\n\u001b[0m\u001b[1;32m   2220\u001b[0m       \u001b[0;31m# Unconditional updates\u001b[0m\u001b[0;34m\u001b[0m\u001b[0;34m\u001b[0m\u001b[0;34m\u001b[0m\u001b[0m\n\u001b[1;32m   2221\u001b[0m       \u001b[0mupdates\u001b[0m \u001b[0;34m+=\u001b[0m \u001b[0mself\u001b[0m\u001b[0;34m.\u001b[0m\u001b[0mget_updates_for\u001b[0m\u001b[0;34m(\u001b[0m\u001b[0;32mNone\u001b[0m\u001b[0;34m)\u001b[0m\u001b[0;34m\u001b[0m\u001b[0;34m\u001b[0m\u001b[0m\n",
            "\u001b[0;32m/usr/local/lib/python3.6/dist-packages/tensorflow/python/keras/optimizer_v2/optimizer_v2.py\u001b[0m in \u001b[0;36mget_updates\u001b[0;34m(self, loss, params)\u001b[0m\n\u001b[1;32m    495\u001b[0m         \u001b[0;32mif\u001b[0m \u001b[0mg\u001b[0m \u001b[0;32mis\u001b[0m \u001b[0;32mnot\u001b[0m \u001b[0;32mNone\u001b[0m \u001b[0;32mand\u001b[0m \u001b[0mv\u001b[0m\u001b[0;34m.\u001b[0m\u001b[0mdtype\u001b[0m \u001b[0;34m!=\u001b[0m \u001b[0mdtypes\u001b[0m\u001b[0;34m.\u001b[0m\u001b[0mresource\u001b[0m\u001b[0;34m\u001b[0m\u001b[0;34m\u001b[0m\u001b[0m\n\u001b[1;32m    496\u001b[0m     ])\n\u001b[0;32m--> 497\u001b[0;31m     \u001b[0;32mreturn\u001b[0m \u001b[0;34m[\u001b[0m\u001b[0mself\u001b[0m\u001b[0;34m.\u001b[0m\u001b[0mapply_gradients\u001b[0m\u001b[0;34m(\u001b[0m\u001b[0mgrads_and_vars\u001b[0m\u001b[0;34m)\u001b[0m\u001b[0;34m]\u001b[0m\u001b[0;34m\u001b[0m\u001b[0;34m\u001b[0m\u001b[0m\n\u001b[0m\u001b[1;32m    498\u001b[0m \u001b[0;34m\u001b[0m\u001b[0m\n\u001b[1;32m    499\u001b[0m   \u001b[0;32mdef\u001b[0m \u001b[0m_set_hyper\u001b[0m\u001b[0;34m(\u001b[0m\u001b[0mself\u001b[0m\u001b[0;34m,\u001b[0m \u001b[0mname\u001b[0m\u001b[0;34m,\u001b[0m \u001b[0mvalue\u001b[0m\u001b[0;34m)\u001b[0m\u001b[0;34m:\u001b[0m\u001b[0;34m\u001b[0m\u001b[0;34m\u001b[0m\u001b[0m\n",
            "\u001b[0;32m/usr/local/lib/python3.6/dist-packages/tensorflow/python/keras/optimizer_v2/optimizer_v2.py\u001b[0m in \u001b[0;36mapply_gradients\u001b[0;34m(self, grads_and_vars, name)\u001b[0m\n\u001b[1;32m    433\u001b[0m         \u001b[0m_\u001b[0m \u001b[0;34m=\u001b[0m \u001b[0mself\u001b[0m\u001b[0;34m.\u001b[0m\u001b[0miterations\u001b[0m\u001b[0;34m\u001b[0m\u001b[0;34m\u001b[0m\u001b[0m\n\u001b[1;32m    434\u001b[0m         \u001b[0mself\u001b[0m\u001b[0;34m.\u001b[0m\u001b[0m_create_hypers\u001b[0m\u001b[0;34m(\u001b[0m\u001b[0;34m)\u001b[0m\u001b[0;34m\u001b[0m\u001b[0;34m\u001b[0m\u001b[0m\n\u001b[0;32m--> 435\u001b[0;31m         \u001b[0mself\u001b[0m\u001b[0;34m.\u001b[0m\u001b[0m_create_slots\u001b[0m\u001b[0;34m(\u001b[0m\u001b[0mvar_list\u001b[0m\u001b[0;34m)\u001b[0m\u001b[0;34m\u001b[0m\u001b[0;34m\u001b[0m\u001b[0m\n\u001b[0m\u001b[1;32m    436\u001b[0m \u001b[0;34m\u001b[0m\u001b[0m\n\u001b[1;32m    437\u001b[0m       \u001b[0mself\u001b[0m\u001b[0;34m.\u001b[0m\u001b[0m_prepare\u001b[0m\u001b[0;34m(\u001b[0m\u001b[0mvar_list\u001b[0m\u001b[0;34m)\u001b[0m\u001b[0;34m\u001b[0m\u001b[0;34m\u001b[0m\u001b[0m\n",
            "\u001b[0;32m/usr/local/lib/python3.6/dist-packages/tensorflow/python/keras/optimizer_v2/adam.py\u001b[0m in \u001b[0;36m_create_slots\u001b[0;34m(self, var_list)\u001b[0m\n\u001b[1;32m    143\u001b[0m     \u001b[0;31m# Separate for-loops to respect the ordering of slot variables from v1.\u001b[0m\u001b[0;34m\u001b[0m\u001b[0;34m\u001b[0m\u001b[0;34m\u001b[0m\u001b[0m\n\u001b[1;32m    144\u001b[0m     \u001b[0;32mfor\u001b[0m \u001b[0mvar\u001b[0m \u001b[0;32min\u001b[0m \u001b[0mvar_list\u001b[0m\u001b[0;34m:\u001b[0m\u001b[0;34m\u001b[0m\u001b[0;34m\u001b[0m\u001b[0m\n\u001b[0;32m--> 145\u001b[0;31m       \u001b[0mself\u001b[0m\u001b[0;34m.\u001b[0m\u001b[0madd_slot\u001b[0m\u001b[0;34m(\u001b[0m\u001b[0mvar\u001b[0m\u001b[0;34m,\u001b[0m \u001b[0;34m'm'\u001b[0m\u001b[0;34m)\u001b[0m\u001b[0;34m\u001b[0m\u001b[0;34m\u001b[0m\u001b[0m\n\u001b[0m\u001b[1;32m    146\u001b[0m     \u001b[0;32mfor\u001b[0m \u001b[0mvar\u001b[0m \u001b[0;32min\u001b[0m \u001b[0mvar_list\u001b[0m\u001b[0;34m:\u001b[0m\u001b[0;34m\u001b[0m\u001b[0;34m\u001b[0m\u001b[0m\n\u001b[1;32m    147\u001b[0m       \u001b[0mself\u001b[0m\u001b[0;34m.\u001b[0m\u001b[0madd_slot\u001b[0m\u001b[0;34m(\u001b[0m\u001b[0mvar\u001b[0m\u001b[0;34m,\u001b[0m \u001b[0;34m'v'\u001b[0m\u001b[0;34m)\u001b[0m\u001b[0;34m\u001b[0m\u001b[0;34m\u001b[0m\u001b[0m\n",
            "\u001b[0;32m/usr/local/lib/python3.6/dist-packages/tensorflow/python/keras/optimizer_v2/optimizer_v2.py\u001b[0m in \u001b[0;36madd_slot\u001b[0;34m(self, var, slot_name, initializer)\u001b[0m\n\u001b[1;32m    576\u001b[0m             \u001b[0mdtype\u001b[0m\u001b[0;34m=\u001b[0m\u001b[0mvar\u001b[0m\u001b[0;34m.\u001b[0m\u001b[0mdtype\u001b[0m\u001b[0;34m,\u001b[0m\u001b[0;34m\u001b[0m\u001b[0;34m\u001b[0m\u001b[0m\n\u001b[1;32m    577\u001b[0m             \u001b[0mtrainable\u001b[0m\u001b[0;34m=\u001b[0m\u001b[0;32mFalse\u001b[0m\u001b[0;34m,\u001b[0m\u001b[0;34m\u001b[0m\u001b[0;34m\u001b[0m\u001b[0m\n\u001b[0;32m--> 578\u001b[0;31m             initial_value=initial_value)\n\u001b[0m\u001b[1;32m    579\u001b[0m       \u001b[0mbackend\u001b[0m\u001b[0;34m.\u001b[0m\u001b[0mtrack_variable\u001b[0m\u001b[0;34m(\u001b[0m\u001b[0mweight\u001b[0m\u001b[0;34m)\u001b[0m\u001b[0;34m\u001b[0m\u001b[0;34m\u001b[0m\u001b[0m\n\u001b[1;32m    580\u001b[0m       \u001b[0mslot_dict\u001b[0m\u001b[0;34m[\u001b[0m\u001b[0mslot_name\u001b[0m\u001b[0;34m]\u001b[0m \u001b[0;34m=\u001b[0m \u001b[0mweight\u001b[0m\u001b[0;34m\u001b[0m\u001b[0;34m\u001b[0m\u001b[0m\n",
            "\u001b[0;32m/usr/local/lib/python3.6/dist-packages/tensorflow/python/ops/variables.py\u001b[0m in \u001b[0;36m__call__\u001b[0;34m(cls, *args, **kwargs)\u001b[0m\n\u001b[1;32m    259\u001b[0m       \u001b[0;32mreturn\u001b[0m \u001b[0mcls\u001b[0m\u001b[0;34m.\u001b[0m\u001b[0m_variable_v1_call\u001b[0m\u001b[0;34m(\u001b[0m\u001b[0;34m*\u001b[0m\u001b[0margs\u001b[0m\u001b[0;34m,\u001b[0m \u001b[0;34m**\u001b[0m\u001b[0mkwargs\u001b[0m\u001b[0;34m)\u001b[0m\u001b[0;34m\u001b[0m\u001b[0;34m\u001b[0m\u001b[0m\n\u001b[1;32m    260\u001b[0m     \u001b[0;32melif\u001b[0m \u001b[0mcls\u001b[0m \u001b[0;32mis\u001b[0m \u001b[0mVariable\u001b[0m\u001b[0;34m:\u001b[0m\u001b[0;34m\u001b[0m\u001b[0;34m\u001b[0m\u001b[0m\n\u001b[0;32m--> 261\u001b[0;31m       \u001b[0;32mreturn\u001b[0m \u001b[0mcls\u001b[0m\u001b[0;34m.\u001b[0m\u001b[0m_variable_v2_call\u001b[0m\u001b[0;34m(\u001b[0m\u001b[0;34m*\u001b[0m\u001b[0margs\u001b[0m\u001b[0;34m,\u001b[0m \u001b[0;34m**\u001b[0m\u001b[0mkwargs\u001b[0m\u001b[0;34m)\u001b[0m\u001b[0;34m\u001b[0m\u001b[0;34m\u001b[0m\u001b[0m\n\u001b[0m\u001b[1;32m    262\u001b[0m     \u001b[0;32melse\u001b[0m\u001b[0;34m:\u001b[0m\u001b[0;34m\u001b[0m\u001b[0;34m\u001b[0m\u001b[0m\n\u001b[1;32m    263\u001b[0m       \u001b[0;32mreturn\u001b[0m \u001b[0msuper\u001b[0m\u001b[0;34m(\u001b[0m\u001b[0mVariableMetaclass\u001b[0m\u001b[0;34m,\u001b[0m \u001b[0mcls\u001b[0m\u001b[0;34m)\u001b[0m\u001b[0;34m.\u001b[0m\u001b[0m__call__\u001b[0m\u001b[0;34m(\u001b[0m\u001b[0;34m*\u001b[0m\u001b[0margs\u001b[0m\u001b[0;34m,\u001b[0m \u001b[0;34m**\u001b[0m\u001b[0mkwargs\u001b[0m\u001b[0;34m)\u001b[0m\u001b[0;34m\u001b[0m\u001b[0;34m\u001b[0m\u001b[0m\n",
            "\u001b[0;32m/usr/local/lib/python3.6/dist-packages/tensorflow/python/ops/variables.py\u001b[0m in \u001b[0;36m_variable_v2_call\u001b[0;34m(cls, initial_value, trainable, validate_shape, caching_device, name, variable_def, dtype, import_scope, constraint, synchronization, aggregation, shape)\u001b[0m\n\u001b[1;32m    253\u001b[0m         \u001b[0msynchronization\u001b[0m\u001b[0;34m=\u001b[0m\u001b[0msynchronization\u001b[0m\u001b[0;34m,\u001b[0m\u001b[0;34m\u001b[0m\u001b[0;34m\u001b[0m\u001b[0m\n\u001b[1;32m    254\u001b[0m         \u001b[0maggregation\u001b[0m\u001b[0;34m=\u001b[0m\u001b[0maggregation\u001b[0m\u001b[0;34m,\u001b[0m\u001b[0;34m\u001b[0m\u001b[0;34m\u001b[0m\u001b[0m\n\u001b[0;32m--> 255\u001b[0;31m         shape=shape)\n\u001b[0m\u001b[1;32m    256\u001b[0m \u001b[0;34m\u001b[0m\u001b[0m\n\u001b[1;32m    257\u001b[0m   \u001b[0;32mdef\u001b[0m \u001b[0m__call__\u001b[0m\u001b[0;34m(\u001b[0m\u001b[0mcls\u001b[0m\u001b[0;34m,\u001b[0m \u001b[0;34m*\u001b[0m\u001b[0margs\u001b[0m\u001b[0;34m,\u001b[0m \u001b[0;34m**\u001b[0m\u001b[0mkwargs\u001b[0m\u001b[0;34m)\u001b[0m\u001b[0;34m:\u001b[0m\u001b[0;34m\u001b[0m\u001b[0;34m\u001b[0m\u001b[0m\n",
            "\u001b[0;32m/usr/local/lib/python3.6/dist-packages/tensorflow/python/ops/variables.py\u001b[0m in \u001b[0;36m<lambda>\u001b[0;34m(**kws)\u001b[0m\n\u001b[1;32m    234\u001b[0m                         shape=None):\n\u001b[1;32m    235\u001b[0m     \u001b[0;34m\"\"\"Call on Variable class. Useful to force the signature.\"\"\"\u001b[0m\u001b[0;34m\u001b[0m\u001b[0;34m\u001b[0m\u001b[0m\n\u001b[0;32m--> 236\u001b[0;31m     \u001b[0mprevious_getter\u001b[0m \u001b[0;34m=\u001b[0m \u001b[0;32mlambda\u001b[0m \u001b[0;34m**\u001b[0m\u001b[0mkws\u001b[0m\u001b[0;34m:\u001b[0m \u001b[0mdefault_variable_creator_v2\u001b[0m\u001b[0;34m(\u001b[0m\u001b[0;32mNone\u001b[0m\u001b[0;34m,\u001b[0m \u001b[0;34m**\u001b[0m\u001b[0mkws\u001b[0m\u001b[0;34m)\u001b[0m\u001b[0;34m\u001b[0m\u001b[0;34m\u001b[0m\u001b[0m\n\u001b[0m\u001b[1;32m    237\u001b[0m     \u001b[0;32mfor\u001b[0m \u001b[0m_\u001b[0m\u001b[0;34m,\u001b[0m \u001b[0mgetter\u001b[0m \u001b[0;32min\u001b[0m \u001b[0mops\u001b[0m\u001b[0;34m.\u001b[0m\u001b[0mget_default_graph\u001b[0m\u001b[0;34m(\u001b[0m\u001b[0;34m)\u001b[0m\u001b[0;34m.\u001b[0m\u001b[0m_variable_creator_stack\u001b[0m\u001b[0;34m:\u001b[0m  \u001b[0;31m# pylint: disable=protected-access\u001b[0m\u001b[0;34m\u001b[0m\u001b[0;34m\u001b[0m\u001b[0m\n\u001b[1;32m    238\u001b[0m       \u001b[0mprevious_getter\u001b[0m \u001b[0;34m=\u001b[0m \u001b[0m_make_getter\u001b[0m\u001b[0;34m(\u001b[0m\u001b[0mgetter\u001b[0m\u001b[0;34m,\u001b[0m \u001b[0mprevious_getter\u001b[0m\u001b[0;34m)\u001b[0m\u001b[0;34m\u001b[0m\u001b[0;34m\u001b[0m\u001b[0m\n",
            "\u001b[0;32m/usr/local/lib/python3.6/dist-packages/tensorflow/python/ops/variable_scope.py\u001b[0m in \u001b[0;36mdefault_variable_creator_v2\u001b[0;34m(next_creator, **kwargs)\u001b[0m\n\u001b[1;32m   2542\u001b[0m       \u001b[0msynchronization\u001b[0m\u001b[0;34m=\u001b[0m\u001b[0msynchronization\u001b[0m\u001b[0;34m,\u001b[0m\u001b[0;34m\u001b[0m\u001b[0;34m\u001b[0m\u001b[0m\n\u001b[1;32m   2543\u001b[0m       \u001b[0maggregation\u001b[0m\u001b[0;34m=\u001b[0m\u001b[0maggregation\u001b[0m\u001b[0;34m,\u001b[0m\u001b[0;34m\u001b[0m\u001b[0;34m\u001b[0m\u001b[0m\n\u001b[0;32m-> 2544\u001b[0;31m       shape=shape)\n\u001b[0m\u001b[1;32m   2545\u001b[0m \u001b[0;34m\u001b[0m\u001b[0m\n\u001b[1;32m   2546\u001b[0m \u001b[0;34m\u001b[0m\u001b[0m\n",
            "\u001b[0;32m/usr/local/lib/python3.6/dist-packages/tensorflow/python/ops/variables.py\u001b[0m in \u001b[0;36m__call__\u001b[0;34m(cls, *args, **kwargs)\u001b[0m\n\u001b[1;32m    261\u001b[0m       \u001b[0;32mreturn\u001b[0m \u001b[0mcls\u001b[0m\u001b[0;34m.\u001b[0m\u001b[0m_variable_v2_call\u001b[0m\u001b[0;34m(\u001b[0m\u001b[0;34m*\u001b[0m\u001b[0margs\u001b[0m\u001b[0;34m,\u001b[0m \u001b[0;34m**\u001b[0m\u001b[0mkwargs\u001b[0m\u001b[0;34m)\u001b[0m\u001b[0;34m\u001b[0m\u001b[0;34m\u001b[0m\u001b[0m\n\u001b[1;32m    262\u001b[0m     \u001b[0;32melse\u001b[0m\u001b[0;34m:\u001b[0m\u001b[0;34m\u001b[0m\u001b[0;34m\u001b[0m\u001b[0m\n\u001b[0;32m--> 263\u001b[0;31m       \u001b[0;32mreturn\u001b[0m \u001b[0msuper\u001b[0m\u001b[0;34m(\u001b[0m\u001b[0mVariableMetaclass\u001b[0m\u001b[0;34m,\u001b[0m \u001b[0mcls\u001b[0m\u001b[0;34m)\u001b[0m\u001b[0;34m.\u001b[0m\u001b[0m__call__\u001b[0m\u001b[0;34m(\u001b[0m\u001b[0;34m*\u001b[0m\u001b[0margs\u001b[0m\u001b[0;34m,\u001b[0m \u001b[0;34m**\u001b[0m\u001b[0mkwargs\u001b[0m\u001b[0;34m)\u001b[0m\u001b[0;34m\u001b[0m\u001b[0;34m\u001b[0m\u001b[0m\n\u001b[0m\u001b[1;32m    264\u001b[0m \u001b[0;34m\u001b[0m\u001b[0m\n\u001b[1;32m    265\u001b[0m \u001b[0;34m\u001b[0m\u001b[0m\n",
            "\u001b[0;32m/usr/local/lib/python3.6/dist-packages/tensorflow/python/ops/resource_variable_ops.py\u001b[0m in \u001b[0;36m__init__\u001b[0;34m(self, initial_value, trainable, collections, validate_shape, caching_device, name, dtype, variable_def, import_scope, constraint, distribute_strategy, synchronization, aggregation, shape)\u001b[0m\n\u001b[1;32m    458\u001b[0m           \u001b[0msynchronization\u001b[0m\u001b[0;34m=\u001b[0m\u001b[0msynchronization\u001b[0m\u001b[0;34m,\u001b[0m\u001b[0;34m\u001b[0m\u001b[0;34m\u001b[0m\u001b[0m\n\u001b[1;32m    459\u001b[0m           \u001b[0maggregation\u001b[0m\u001b[0;34m=\u001b[0m\u001b[0maggregation\u001b[0m\u001b[0;34m,\u001b[0m\u001b[0;34m\u001b[0m\u001b[0;34m\u001b[0m\u001b[0m\n\u001b[0;32m--> 460\u001b[0;31m           shape=shape)\n\u001b[0m\u001b[1;32m    461\u001b[0m \u001b[0;34m\u001b[0m\u001b[0m\n\u001b[1;32m    462\u001b[0m   \u001b[0;32mdef\u001b[0m \u001b[0m__repr__\u001b[0m\u001b[0;34m(\u001b[0m\u001b[0mself\u001b[0m\u001b[0;34m)\u001b[0m\u001b[0;34m:\u001b[0m\u001b[0;34m\u001b[0m\u001b[0;34m\u001b[0m\u001b[0m\n",
            "\u001b[0;32m/usr/local/lib/python3.6/dist-packages/tensorflow/python/ops/resource_variable_ops.py\u001b[0m in \u001b[0;36m_init_from_args\u001b[0;34m(self, initial_value, trainable, collections, caching_device, name, dtype, constraint, synchronization, aggregation, shape)\u001b[0m\n\u001b[1;32m    647\u001b[0m             \u001b[0;31m# messages.\u001b[0m\u001b[0;34m\u001b[0m\u001b[0;34m\u001b[0m\u001b[0;34m\u001b[0m\u001b[0m\n\u001b[1;32m    648\u001b[0m             \u001b[0;32mwith\u001b[0m \u001b[0mops\u001b[0m\u001b[0;34m.\u001b[0m\u001b[0mdevice\u001b[0m\u001b[0;34m(\u001b[0m\u001b[0mself\u001b[0m\u001b[0;34m.\u001b[0m\u001b[0m_handle\u001b[0m\u001b[0;34m.\u001b[0m\u001b[0mdevice\u001b[0m\u001b[0;34m)\u001b[0m\u001b[0;34m:\u001b[0m\u001b[0;34m\u001b[0m\u001b[0;34m\u001b[0m\u001b[0m\n\u001b[0;32m--> 649\u001b[0;31m               \u001b[0mvalue\u001b[0m \u001b[0;34m=\u001b[0m \u001b[0mself\u001b[0m\u001b[0;34m.\u001b[0m\u001b[0m_read_variable_op\u001b[0m\u001b[0;34m(\u001b[0m\u001b[0;34m)\u001b[0m\u001b[0;34m\u001b[0m\u001b[0;34m\u001b[0m\u001b[0m\n\u001b[0m\u001b[1;32m    650\u001b[0m             \u001b[0mself\u001b[0m\u001b[0;34m.\u001b[0m\u001b[0m_graph_element\u001b[0m \u001b[0;34m=\u001b[0m \u001b[0mvalue\u001b[0m\u001b[0;34m\u001b[0m\u001b[0;34m\u001b[0m\u001b[0m\n\u001b[1;32m    651\u001b[0m             \u001b[0;32mif\u001b[0m \u001b[0mcaching_device\u001b[0m \u001b[0;32mis\u001b[0m \u001b[0;32mnot\u001b[0m \u001b[0;32mNone\u001b[0m\u001b[0;34m:\u001b[0m\u001b[0;34m\u001b[0m\u001b[0;34m\u001b[0m\u001b[0m\n",
            "\u001b[0;32m/usr/local/lib/python3.6/dist-packages/tensorflow/python/ops/resource_variable_ops.py\u001b[0m in \u001b[0;36m_read_variable_op\u001b[0;34m(self)\u001b[0m\n\u001b[1;32m    933\u001b[0m     \u001b[0mvariable_accessed\u001b[0m\u001b[0;34m(\u001b[0m\u001b[0mself\u001b[0m\u001b[0;34m)\u001b[0m\u001b[0;34m\u001b[0m\u001b[0;34m\u001b[0m\u001b[0m\n\u001b[1;32m    934\u001b[0m     result = gen_resource_variable_ops.read_variable_op(self._handle,\n\u001b[0;32m--> 935\u001b[0;31m                                                         self._dtype)\n\u001b[0m\u001b[1;32m    936\u001b[0m     \u001b[0m_maybe_set_handle_data\u001b[0m\u001b[0;34m(\u001b[0m\u001b[0mself\u001b[0m\u001b[0;34m.\u001b[0m\u001b[0m_dtype\u001b[0m\u001b[0;34m,\u001b[0m \u001b[0mself\u001b[0m\u001b[0;34m.\u001b[0m\u001b[0m_handle\u001b[0m\u001b[0;34m,\u001b[0m \u001b[0mresult\u001b[0m\u001b[0;34m)\u001b[0m\u001b[0;34m\u001b[0m\u001b[0;34m\u001b[0m\u001b[0m\n\u001b[1;32m    937\u001b[0m \u001b[0;34m\u001b[0m\u001b[0m\n",
            "\u001b[0;32m/usr/local/lib/python3.6/dist-packages/tensorflow/python/ops/gen_resource_variable_ops.py\u001b[0m in \u001b[0;36mread_variable_op\u001b[0;34m(resource, dtype, name)\u001b[0m\n\u001b[1;32m    585\u001b[0m   \u001b[0mdtype\u001b[0m \u001b[0;34m=\u001b[0m \u001b[0m_execute\u001b[0m\u001b[0;34m.\u001b[0m\u001b[0mmake_type\u001b[0m\u001b[0;34m(\u001b[0m\u001b[0mdtype\u001b[0m\u001b[0;34m,\u001b[0m \u001b[0;34m\"dtype\"\u001b[0m\u001b[0;34m)\u001b[0m\u001b[0;34m\u001b[0m\u001b[0;34m\u001b[0m\u001b[0m\n\u001b[1;32m    586\u001b[0m   _, _, _op = _op_def_lib._apply_op_helper(\n\u001b[0;32m--> 587\u001b[0;31m         \"ReadVariableOp\", resource=resource, dtype=dtype, name=name)\n\u001b[0m\u001b[1;32m    588\u001b[0m   \u001b[0m_result\u001b[0m \u001b[0;34m=\u001b[0m \u001b[0m_op\u001b[0m\u001b[0;34m.\u001b[0m\u001b[0moutputs\u001b[0m\u001b[0;34m[\u001b[0m\u001b[0;34m:\u001b[0m\u001b[0;34m]\u001b[0m\u001b[0;34m\u001b[0m\u001b[0;34m\u001b[0m\u001b[0m\n\u001b[1;32m    589\u001b[0m   \u001b[0m_inputs_flat\u001b[0m \u001b[0;34m=\u001b[0m \u001b[0m_op\u001b[0m\u001b[0;34m.\u001b[0m\u001b[0minputs\u001b[0m\u001b[0;34m\u001b[0m\u001b[0;34m\u001b[0m\u001b[0m\n",
            "\u001b[0;32m/usr/local/lib/python3.6/dist-packages/tensorflow/python/framework/op_def_library.py\u001b[0m in \u001b[0;36m_apply_op_helper\u001b[0;34m(self, op_type_name, name, **keywords)\u001b[0m\n\u001b[1;32m    786\u001b[0m         op = g.create_op(op_type_name, inputs, dtypes=None, name=scope,\n\u001b[1;32m    787\u001b[0m                          \u001b[0minput_types\u001b[0m\u001b[0;34m=\u001b[0m\u001b[0minput_types\u001b[0m\u001b[0;34m,\u001b[0m \u001b[0mattrs\u001b[0m\u001b[0;34m=\u001b[0m\u001b[0mattr_protos\u001b[0m\u001b[0;34m,\u001b[0m\u001b[0;34m\u001b[0m\u001b[0;34m\u001b[0m\u001b[0m\n\u001b[0;32m--> 788\u001b[0;31m                          op_def=op_def)\n\u001b[0m\u001b[1;32m    789\u001b[0m       \u001b[0;32mreturn\u001b[0m \u001b[0moutput_structure\u001b[0m\u001b[0;34m,\u001b[0m \u001b[0mop_def\u001b[0m\u001b[0;34m.\u001b[0m\u001b[0mis_stateful\u001b[0m\u001b[0;34m,\u001b[0m \u001b[0mop\u001b[0m\u001b[0;34m\u001b[0m\u001b[0;34m\u001b[0m\u001b[0m\n\u001b[1;32m    790\u001b[0m \u001b[0;34m\u001b[0m\u001b[0m\n",
            "\u001b[0;32m/usr/local/lib/python3.6/dist-packages/tensorflow/python/util/deprecation.py\u001b[0m in \u001b[0;36mnew_func\u001b[0;34m(*args, **kwargs)\u001b[0m\n\u001b[1;32m    505\u001b[0m                 \u001b[0;34m'in a future version'\u001b[0m \u001b[0;32mif\u001b[0m \u001b[0mdate\u001b[0m \u001b[0;32mis\u001b[0m \u001b[0;32mNone\u001b[0m \u001b[0;32melse\u001b[0m \u001b[0;34m(\u001b[0m\u001b[0;34m'after %s'\u001b[0m \u001b[0;34m%\u001b[0m \u001b[0mdate\u001b[0m\u001b[0;34m)\u001b[0m\u001b[0;34m,\u001b[0m\u001b[0;34m\u001b[0m\u001b[0;34m\u001b[0m\u001b[0m\n\u001b[1;32m    506\u001b[0m                 instructions)\n\u001b[0;32m--> 507\u001b[0;31m       \u001b[0;32mreturn\u001b[0m \u001b[0mfunc\u001b[0m\u001b[0;34m(\u001b[0m\u001b[0;34m*\u001b[0m\u001b[0margs\u001b[0m\u001b[0;34m,\u001b[0m \u001b[0;34m**\u001b[0m\u001b[0mkwargs\u001b[0m\u001b[0;34m)\u001b[0m\u001b[0;34m\u001b[0m\u001b[0;34m\u001b[0m\u001b[0m\n\u001b[0m\u001b[1;32m    508\u001b[0m \u001b[0;34m\u001b[0m\u001b[0m\n\u001b[1;32m    509\u001b[0m     doc = _add_deprecated_arg_notice_to_docstring(\n",
            "\u001b[0;32m/usr/local/lib/python3.6/dist-packages/tensorflow/python/framework/ops.py\u001b[0m in \u001b[0;36mcreate_op\u001b[0;34m(***failed resolving arguments***)\u001b[0m\n\u001b[1;32m   3602\u001b[0m \u001b[0;34m\u001b[0m\u001b[0m\n\u001b[1;32m   3603\u001b[0m     \u001b[0minput_ops\u001b[0m \u001b[0;34m=\u001b[0m \u001b[0mset\u001b[0m\u001b[0;34m(\u001b[0m\u001b[0;34m[\u001b[0m\u001b[0mt\u001b[0m\u001b[0;34m.\u001b[0m\u001b[0mop\u001b[0m \u001b[0;32mfor\u001b[0m \u001b[0mt\u001b[0m \u001b[0;32min\u001b[0m \u001b[0minputs\u001b[0m\u001b[0;34m]\u001b[0m\u001b[0;34m)\u001b[0m\u001b[0;34m\u001b[0m\u001b[0;34m\u001b[0m\u001b[0m\n\u001b[0;32m-> 3604\u001b[0;31m     \u001b[0mcontrol_inputs\u001b[0m \u001b[0;34m=\u001b[0m \u001b[0mself\u001b[0m\u001b[0;34m.\u001b[0m\u001b[0m_control_dependencies_for_inputs\u001b[0m\u001b[0;34m(\u001b[0m\u001b[0minput_ops\u001b[0m\u001b[0;34m)\u001b[0m\u001b[0;34m\u001b[0m\u001b[0;34m\u001b[0m\u001b[0m\n\u001b[0m\u001b[1;32m   3605\u001b[0m     \u001b[0;31m# _create_op_helper mutates the new Operation. `_mutation_lock` ensures a\u001b[0m\u001b[0;34m\u001b[0m\u001b[0;34m\u001b[0m\u001b[0;34m\u001b[0m\u001b[0m\n\u001b[1;32m   3606\u001b[0m     \u001b[0;31m# Session.run call cannot occur between creating and mutating the op.\u001b[0m\u001b[0;34m\u001b[0m\u001b[0;34m\u001b[0m\u001b[0;34m\u001b[0m\u001b[0m\n",
            "\u001b[0;31mKeyboardInterrupt\u001b[0m: "
          ]
        }
      ]
    },
    {
      "cell_type": "code",
      "metadata": {
        "id": "b-W89PI_wUls",
        "colab_type": "code",
        "outputId": "ccf1d4c1-6b91-4066-bcf8-2bee0eea3d54",
        "colab": {
          "base_uri": "https://localhost:8080/",
          "height": 119
        }
      },
      "source": [
        "# normalize image vectors\n",
        "X_train_mnist = X_train_mnist / 255.0\n",
        "X_test_mnist = X_test_mnist / 255.0\n",
        "\n",
        "# convert training and test labels to one hot encoded matrices\n",
        "y_train_mnist = convert_to_one_hot(y_train_mnist, 10).T\n",
        "y_test_mnist = convert_to_one_hot(y_test_mnist, 10).T\n",
        "\n",
        "print (\"number of training examples = \" + str(X_train_mnist.shape[0]))\n",
        "print (\"number of test examples = \" + str(X_test_mnist.shape[0]))\n",
        "print (\"X_train shape: \" + str(X_train_mnist.shape))\n",
        "print (\"Y_train shape: \" + str(y_train_mnist.shape))\n",
        "print (\"X_test shape: \" + str(X_test_mnist.shape))\n",
        "print (\"Y_test shape: \" + str(y_test_mnist.shape))"
      ],
      "execution_count": 0,
      "outputs": [
        {
          "output_type": "stream",
          "text": [
            "number of training examples = 60000\n",
            "number of test examples = 10000\n",
            "X_train shape: (60000, 28, 28, 1)\n",
            "Y_train shape: (60000, 10)\n",
            "X_test shape: (10000, 28, 28, 1)\n",
            "Y_test shape: (10000, 10)\n"
          ],
          "name": "stdout"
        }
      ]
    },
    {
      "cell_type": "code",
      "metadata": {
        "id": "a8RGCGuqDKQE",
        "colab_type": "code",
        "outputId": "512b5b90-0f7d-48bb-ffcd-e6c39ad93db1",
        "colab": {
          "base_uri": "https://localhost:8080/",
          "height": 1000
        }
      },
      "source": [
        "model_mnist.fit(X_train_mnist, y_train_mnist, epochs=50, batch_size=250)\n",
        "predictions = model_mnist.evaluate(X_test_mnist, y_test_mnist)\n",
        "\n",
        "print(\"Loss: \" + str(predictions[0]))\n",
        "print(\"Test Accuracy: \" + str(predictions[1]))"
      ],
      "execution_count": 0,
      "outputs": [
        {
          "output_type": "stream",
          "text": [
            "Epoch 1/50\n",
            "60000/60000 [==============================] - 138s 2ms/sample - loss: 0.1795 - acc: 0.9459\n",
            "Epoch 2/50\n",
            "60000/60000 [==============================] - 138s 2ms/sample - loss: 0.0795 - acc: 0.9760\n",
            "Epoch 3/50\n",
            "60000/60000 [==============================] - 138s 2ms/sample - loss: 0.0454 - acc: 0.9859\n",
            "Epoch 4/50\n",
            "60000/60000 [==============================] - 138s 2ms/sample - loss: 0.0309 - acc: 0.9905\n",
            "Epoch 5/50\n",
            "60000/60000 [==============================] - 138s 2ms/sample - loss: 0.0209 - acc: 0.9930\n",
            "Epoch 6/50\n",
            "60000/60000 [==============================] - 138s 2ms/sample - loss: 0.0151 - acc: 0.9948\n",
            "Epoch 7/50\n",
            "60000/60000 [==============================] - 138s 2ms/sample - loss: 0.0111 - acc: 0.9963\n",
            "Epoch 8/50\n",
            "60000/60000 [==============================] - 138s 2ms/sample - loss: 0.0118 - acc: 0.9964\n",
            "Epoch 9/50\n",
            "60000/60000 [==============================] - 138s 2ms/sample - loss: 0.0089 - acc: 0.9969\n",
            "Epoch 10/50\n",
            "60000/60000 [==============================] - 138s 2ms/sample - loss: 0.0071 - acc: 0.9977\n",
            "Epoch 11/50\n",
            "60000/60000 [==============================] - 138s 2ms/sample - loss: 0.0074 - acc: 0.9975\n",
            "Epoch 12/50\n",
            "60000/60000 [==============================] - 138s 2ms/sample - loss: 0.0082 - acc: 0.9972\n",
            "Epoch 13/50\n",
            "60000/60000 [==============================] - 138s 2ms/sample - loss: 0.0074 - acc: 0.9975\n",
            "Epoch 14/50\n",
            "60000/60000 [==============================] - 138s 2ms/sample - loss: 0.0054 - acc: 0.9983\n",
            "Epoch 15/50\n",
            "60000/60000 [==============================] - 139s 2ms/sample - loss: 0.0059 - acc: 0.9982\n",
            "Epoch 16/50\n",
            "60000/60000 [==============================] - 138s 2ms/sample - loss: 0.0084 - acc: 0.9975\n",
            "Epoch 17/50\n",
            "60000/60000 [==============================] - 138s 2ms/sample - loss: 0.0086 - acc: 0.9970\n",
            "Epoch 18/50\n",
            "60000/60000 [==============================] - 138s 2ms/sample - loss: 0.0052 - acc: 0.9984\n",
            "Epoch 19/50\n",
            "60000/60000 [==============================] - 138s 2ms/sample - loss: 0.0083 - acc: 0.9974\n",
            "Epoch 20/50\n",
            "60000/60000 [==============================] - 138s 2ms/sample - loss: 0.0063 - acc: 0.9978\n",
            "Epoch 21/50\n",
            "60000/60000 [==============================] - 138s 2ms/sample - loss: 0.0067 - acc: 0.9978\n",
            "Epoch 22/50\n",
            "60000/60000 [==============================] - 138s 2ms/sample - loss: 0.0061 - acc: 0.9980\n",
            "Epoch 23/50\n",
            "60000/60000 [==============================] - 138s 2ms/sample - loss: 0.0041 - acc: 0.9987\n",
            "Epoch 24/50\n",
            "60000/60000 [==============================] - 138s 2ms/sample - loss: 0.0063 - acc: 0.9981\n",
            "Epoch 25/50\n",
            "60000/60000 [==============================] - 138s 2ms/sample - loss: 0.0049 - acc: 0.9985\n",
            "Epoch 26/50\n",
            "60000/60000 [==============================] - 138s 2ms/sample - loss: 0.0064 - acc: 0.9979\n",
            "Epoch 27/50\n",
            "60000/60000 [==============================] - 138s 2ms/sample - loss: 0.0058 - acc: 0.9980\n",
            "Epoch 28/50\n",
            "60000/60000 [==============================] - 138s 2ms/sample - loss: 0.0060 - acc: 0.9982\n",
            "Epoch 29/50\n",
            "60000/60000 [==============================] - 138s 2ms/sample - loss: 0.0040 - acc: 0.9988\n",
            "Epoch 30/50\n",
            "60000/60000 [==============================] - 138s 2ms/sample - loss: 0.0035 - acc: 0.9990\n",
            "Epoch 31/50\n",
            "60000/60000 [==============================] - 138s 2ms/sample - loss: 0.0040 - acc: 0.9987\n",
            "Epoch 32/50\n",
            "60000/60000 [==============================] - 139s 2ms/sample - loss: 0.0044 - acc: 0.9986\n",
            "Epoch 33/50\n",
            "60000/60000 [==============================] - 138s 2ms/sample - loss: 0.0044 - acc: 0.9986\n",
            "Epoch 34/50\n",
            "60000/60000 [==============================] - 139s 2ms/sample - loss: 0.0064 - acc: 0.9979\n",
            "Epoch 35/50\n",
            "60000/60000 [==============================] - 139s 2ms/sample - loss: 0.0067 - acc: 0.9979\n",
            "Epoch 36/50\n",
            "60000/60000 [==============================] - 138s 2ms/sample - loss: 0.0047 - acc: 0.9986\n",
            "Epoch 37/50\n",
            "60000/60000 [==============================] - 138s 2ms/sample - loss: 0.0021 - acc: 0.9994\n",
            "Epoch 38/50\n",
            "60000/60000 [==============================] - 138s 2ms/sample - loss: 0.0019 - acc: 0.9995\n",
            "Epoch 39/50\n",
            "60000/60000 [==============================] - 138s 2ms/sample - loss: 0.0030 - acc: 0.9990\n",
            "Epoch 40/50\n",
            "60000/60000 [==============================] - 138s 2ms/sample - loss: 0.0056 - acc: 0.9983\n",
            "Epoch 41/50\n",
            "60000/60000 [==============================] - 138s 2ms/sample - loss: 0.0018 - acc: 0.9996\n",
            "Epoch 42/50\n",
            "60000/60000 [==============================] - 138s 2ms/sample - loss: 6.0347e-04 - acc: 0.9998\n",
            "Epoch 43/50\n",
            "60000/60000 [==============================] - 138s 2ms/sample - loss: 0.0025 - acc: 0.9994\n",
            "Epoch 44/50\n",
            "60000/60000 [==============================] - 138s 2ms/sample - loss: 0.0034 - acc: 0.9989\n",
            "Epoch 45/50\n",
            "60000/60000 [==============================] - 138s 2ms/sample - loss: 0.0034 - acc: 0.9989\n",
            "Epoch 46/50\n",
            "60000/60000 [==============================] - 138s 2ms/sample - loss: 0.0049 - acc: 0.9986\n",
            "Epoch 47/50\n",
            "60000/60000 [==============================] - 138s 2ms/sample - loss: 0.0028 - acc: 0.9992\n",
            "Epoch 48/50\n",
            "60000/60000 [==============================] - 138s 2ms/sample - loss: 0.0017 - acc: 0.9995\n",
            "Epoch 49/50\n",
            "60000/60000 [==============================] - 138s 2ms/sample - loss: 0.0014 - acc: 0.9996\n",
            "Epoch 50/50\n",
            "60000/60000 [==============================] - 138s 2ms/sample - loss: 8.2659e-04 - acc: 0.9998\n",
            "10000/10000 [==============================] - 21s 2ms/sample - loss: 0.0684 - acc: 0.9879\n",
            "Loss: 0.06835103384113726\n",
            "Test Accuracy: 0.9879\n"
          ],
          "name": "stdout"
        }
      ]
    },
    {
      "cell_type": "code",
      "metadata": {
        "id": "VPwSEqfcs66l",
        "colab_type": "code",
        "colab": {}
      },
      "source": [
        "model_mnist.save(\"ResNetV2-164 MNIST.h5\")"
      ],
      "execution_count": 0,
      "outputs": []
    },
    {
      "cell_type": "code",
      "metadata": {
        "id": "J3k4RIpHappg",
        "colab_type": "code",
        "outputId": "3dae9efb-6a21-45dc-bce4-403809ad3d66",
        "colab": {
          "base_uri": "https://localhost:8080/",
          "height": 34
        }
      },
      "source": [
        "predictions\n"
      ],
      "execution_count": 0,
      "outputs": [
        {
          "output_type": "execute_result",
          "data": {
            "text/plain": [
              "[0.06835103384113726, 0.9879]"
            ]
          },
          "metadata": {
            "tags": []
          },
          "execution_count": 47
        }
      ]
    },
    {
      "cell_type": "code",
      "metadata": {
        "id": "WRU4T0nqau6m",
        "colab_type": "code",
        "outputId": "35d02bdd-8f23-427c-a4b0-e21d8e4479df",
        "colab": {
          "base_uri": "https://localhost:8080/",
          "height": 51
        }
      },
      "source": [
        "!pip install -U -q PyDrive\n",
        "from pydrive.auth import GoogleAuth\n",
        "from pydrive.drive import GoogleDrive \n",
        "from google.colab import auth \n",
        "from oauth2client.client import GoogleCredentials"
      ],
      "execution_count": 0,
      "outputs": [
        {
          "output_type": "stream",
          "text": [
            "\u001b[?25l\r\u001b[K     |▎                               | 10kB 19.4MB/s eta 0:00:01\r\u001b[K     |▋                               | 20kB 25.0MB/s eta 0:00:01\r\u001b[K     |█                               | 30kB 31.4MB/s eta 0:00:01\r\u001b[K     |█▎                              | 40kB 29.2MB/s eta 0:00:01\r\u001b[K     |█▋                              | 51kB 32.4MB/s eta 0:00:01\r\u001b[K     |██                              | 61kB 36.5MB/s eta 0:00:01\r\u001b[K     |██▎                             | 71kB 26.0MB/s eta 0:00:01\r\u001b[K     |██▋                             | 81kB 27.7MB/s eta 0:00:01\r\u001b[K     |███                             | 92kB 29.7MB/s eta 0:00:01\r\u001b[K     |███▎                            | 102kB 28.0MB/s eta 0:00:01\r\u001b[K     |███▋                            | 112kB 28.0MB/s eta 0:00:01\r\u001b[K     |████                            | 122kB 28.0MB/s eta 0:00:01\r\u001b[K     |████▎                           | 133kB 28.0MB/s eta 0:00:01\r\u001b[K     |████▋                           | 143kB 28.0MB/s eta 0:00:01\r\u001b[K     |█████                           | 153kB 28.0MB/s eta 0:00:01\r\u001b[K     |█████▎                          | 163kB 28.0MB/s eta 0:00:01\r\u001b[K     |█████▋                          | 174kB 28.0MB/s eta 0:00:01\r\u001b[K     |██████                          | 184kB 28.0MB/s eta 0:00:01\r\u001b[K     |██████▎                         | 194kB 28.0MB/s eta 0:00:01\r\u001b[K     |██████▋                         | 204kB 28.0MB/s eta 0:00:01\r\u001b[K     |███████                         | 215kB 28.0MB/s eta 0:00:01\r\u001b[K     |███████▎                        | 225kB 28.0MB/s eta 0:00:01\r\u001b[K     |███████▋                        | 235kB 28.0MB/s eta 0:00:01\r\u001b[K     |████████                        | 245kB 28.0MB/s eta 0:00:01\r\u001b[K     |████████▎                       | 256kB 28.0MB/s eta 0:00:01\r\u001b[K     |████████▋                       | 266kB 28.0MB/s eta 0:00:01\r\u001b[K     |█████████                       | 276kB 28.0MB/s eta 0:00:01\r\u001b[K     |█████████▎                      | 286kB 28.0MB/s eta 0:00:01\r\u001b[K     |█████████▋                      | 296kB 28.0MB/s eta 0:00:01\r\u001b[K     |██████████                      | 307kB 28.0MB/s eta 0:00:01\r\u001b[K     |██████████▎                     | 317kB 28.0MB/s eta 0:00:01\r\u001b[K     |██████████▋                     | 327kB 28.0MB/s eta 0:00:01\r\u001b[K     |███████████                     | 337kB 28.0MB/s eta 0:00:01\r\u001b[K     |███████████▎                    | 348kB 28.0MB/s eta 0:00:01\r\u001b[K     |███████████▋                    | 358kB 28.0MB/s eta 0:00:01\r\u001b[K     |████████████                    | 368kB 28.0MB/s eta 0:00:01\r\u001b[K     |████████████▎                   | 378kB 28.0MB/s eta 0:00:01\r\u001b[K     |████████████▋                   | 389kB 28.0MB/s eta 0:00:01\r\u001b[K     |█████████████                   | 399kB 28.0MB/s eta 0:00:01\r\u001b[K     |█████████████▎                  | 409kB 28.0MB/s eta 0:00:01\r\u001b[K     |█████████████▋                  | 419kB 28.0MB/s eta 0:00:01\r\u001b[K     |██████████████                  | 430kB 28.0MB/s eta 0:00:01\r\u001b[K     |██████████████▎                 | 440kB 28.0MB/s eta 0:00:01\r\u001b[K     |██████████████▋                 | 450kB 28.0MB/s eta 0:00:01\r\u001b[K     |███████████████                 | 460kB 28.0MB/s eta 0:00:01\r\u001b[K     |███████████████▎                | 471kB 28.0MB/s eta 0:00:01\r\u001b[K     |███████████████▋                | 481kB 28.0MB/s eta 0:00:01\r\u001b[K     |████████████████                | 491kB 28.0MB/s eta 0:00:01\r\u001b[K     |████████████████▎               | 501kB 28.0MB/s eta 0:00:01\r\u001b[K     |████████████████▋               | 512kB 28.0MB/s eta 0:00:01\r\u001b[K     |█████████████████               | 522kB 28.0MB/s eta 0:00:01\r\u001b[K     |█████████████████▎              | 532kB 28.0MB/s eta 0:00:01\r\u001b[K     |█████████████████▋              | 542kB 28.0MB/s eta 0:00:01\r\u001b[K     |██████████████████              | 552kB 28.0MB/s eta 0:00:01\r\u001b[K     |██████████████████▎             | 563kB 28.0MB/s eta 0:00:01\r\u001b[K     |██████████████████▋             | 573kB 28.0MB/s eta 0:00:01\r\u001b[K     |███████████████████             | 583kB 28.0MB/s eta 0:00:01\r\u001b[K     |███████████████████▎            | 593kB 28.0MB/s eta 0:00:01\r\u001b[K     |███████████████████▋            | 604kB 28.0MB/s eta 0:00:01\r\u001b[K     |████████████████████            | 614kB 28.0MB/s eta 0:00:01\r\u001b[K     |████████████████████▎           | 624kB 28.0MB/s eta 0:00:01\r\u001b[K     |████████████████████▋           | 634kB 28.0MB/s eta 0:00:01\r\u001b[K     |█████████████████████           | 645kB 28.0MB/s eta 0:00:01\r\u001b[K     |█████████████████████▎          | 655kB 28.0MB/s eta 0:00:01\r\u001b[K     |█████████████████████▋          | 665kB 28.0MB/s eta 0:00:01\r\u001b[K     |██████████████████████          | 675kB 28.0MB/s eta 0:00:01\r\u001b[K     |██████████████████████▎         | 686kB 28.0MB/s eta 0:00:01\r\u001b[K     |██████████████████████▋         | 696kB 28.0MB/s eta 0:00:01\r\u001b[K     |███████████████████████         | 706kB 28.0MB/s eta 0:00:01\r\u001b[K     |███████████████████████▎        | 716kB 28.0MB/s eta 0:00:01\r\u001b[K     |███████████████████████▋        | 727kB 28.0MB/s eta 0:00:01\r\u001b[K     |████████████████████████        | 737kB 28.0MB/s eta 0:00:01\r\u001b[K     |████████████████████████▎       | 747kB 28.0MB/s eta 0:00:01\r\u001b[K     |████████████████████████▋       | 757kB 28.0MB/s eta 0:00:01\r\u001b[K     |████████████████████████▉       | 768kB 28.0MB/s eta 0:00:01\r\u001b[K     |█████████████████████████▏      | 778kB 28.0MB/s eta 0:00:01\r\u001b[K     |█████████████████████████▌      | 788kB 28.0MB/s eta 0:00:01\r\u001b[K     |█████████████████████████▉      | 798kB 28.0MB/s eta 0:00:01\r\u001b[K     |██████████████████████████▏     | 808kB 28.0MB/s eta 0:00:01\r\u001b[K     |██████████████████████████▌     | 819kB 28.0MB/s eta 0:00:01\r\u001b[K     |██████████████████████████▉     | 829kB 28.0MB/s eta 0:00:01\r\u001b[K     |███████████████████████████▏    | 839kB 28.0MB/s eta 0:00:01\r\u001b[K     |███████████████████████████▌    | 849kB 28.0MB/s eta 0:00:01\r\u001b[K     |███████████████████████████▉    | 860kB 28.0MB/s eta 0:00:01\r\u001b[K     |████████████████████████████▏   | 870kB 28.0MB/s eta 0:00:01\r\u001b[K     |████████████████████████████▌   | 880kB 28.0MB/s eta 0:00:01\r\u001b[K     |████████████████████████████▉   | 890kB 28.0MB/s eta 0:00:01\r\u001b[K     |█████████████████████████████▏  | 901kB 28.0MB/s eta 0:00:01\r\u001b[K     |█████████████████████████████▌  | 911kB 28.0MB/s eta 0:00:01\r\u001b[K     |█████████████████████████████▉  | 921kB 28.0MB/s eta 0:00:01\r\u001b[K     |██████████████████████████████▏ | 931kB 28.0MB/s eta 0:00:01\r\u001b[K     |██████████████████████████████▌ | 942kB 28.0MB/s eta 0:00:01\r\u001b[K     |██████████████████████████████▉ | 952kB 28.0MB/s eta 0:00:01\r\u001b[K     |███████████████████████████████▏| 962kB 28.0MB/s eta 0:00:01\r\u001b[K     |███████████████████████████████▌| 972kB 28.0MB/s eta 0:00:01\r\u001b[K     |███████████████████████████████▉| 983kB 28.0MB/s eta 0:00:01\r\u001b[K     |████████████████████████████████| 993kB 28.0MB/s \n",
            "\u001b[?25h  Building wheel for PyDrive (setup.py) ... \u001b[?25l\u001b[?25hdone\n"
          ],
          "name": "stdout"
        }
      ]
    },
    {
      "cell_type": "code",
      "metadata": {
        "id": "kVkgYn4Yb3xE",
        "colab_type": "code",
        "colab": {}
      },
      "source": [
        "auth.authenticate_user()\n",
        "gauth = GoogleAuth()\n",
        "gauth.credentials = GoogleCredentials.get_application_default()\n",
        "drive = GoogleDrive(gauth)"
      ],
      "execution_count": 0,
      "outputs": []
    },
    {
      "cell_type": "code",
      "metadata": {
        "id": "0SG_4e2Eb_lm",
        "colab_type": "code",
        "outputId": "68ca1c6a-9a5f-494d-ba0d-55df492d67aa",
        "colab": {
          "base_uri": "https://localhost:8080/",
          "height": 513
        }
      },
      "source": [
        "model_mnist.save('ResNetV2-164 MNIST.h5')\n",
        "model_file = drive.CreateFile({'title' : 'ResNetV2-164 MNIST.h5'})\n",
        "model_file.SetContentFile('ResNetV2-164 MNIST.h5')\n",
        "model_file.Upload()"
      ],
      "execution_count": 0,
      "outputs": [
        {
          "output_type": "stream",
          "text": [
            "W0718 18:56:44.586663 139928867526528 __init__.py:44] file_cache is unavailable when using oauth2client >= 4.0.0 or google-auth\n",
            "Traceback (most recent call last):\n",
            "  File \"/usr/local/lib/python3.6/dist-packages/googleapiclient/discovery_cache/__init__.py\", line 36, in autodetect\n",
            "    from google.appengine.api import memcache\n",
            "ModuleNotFoundError: No module named 'google.appengine'\n",
            "\n",
            "During handling of the above exception, another exception occurred:\n",
            "\n",
            "Traceback (most recent call last):\n",
            "  File \"/usr/local/lib/python3.6/dist-packages/googleapiclient/discovery_cache/file_cache.py\", line 33, in <module>\n",
            "    from oauth2client.contrib.locked_file import LockedFile\n",
            "ModuleNotFoundError: No module named 'oauth2client.contrib.locked_file'\n",
            "\n",
            "During handling of the above exception, another exception occurred:\n",
            "\n",
            "Traceback (most recent call last):\n",
            "  File \"/usr/local/lib/python3.6/dist-packages/googleapiclient/discovery_cache/file_cache.py\", line 37, in <module>\n",
            "    from oauth2client.locked_file import LockedFile\n",
            "ModuleNotFoundError: No module named 'oauth2client.locked_file'\n",
            "\n",
            "During handling of the above exception, another exception occurred:\n",
            "\n",
            "Traceback (most recent call last):\n",
            "  File \"/usr/local/lib/python3.6/dist-packages/googleapiclient/discovery_cache/__init__.py\", line 41, in autodetect\n",
            "    from . import file_cache\n",
            "  File \"/usr/local/lib/python3.6/dist-packages/googleapiclient/discovery_cache/file_cache.py\", line 41, in <module>\n",
            "    'file_cache is unavailable when using oauth2client >= 4.0.0 or google-auth')\n",
            "ImportError: file_cache is unavailable when using oauth2client >= 4.0.0 or google-auth\n"
          ],
          "name": "stderr"
        }
      ]
    },
    {
      "cell_type": "code",
      "metadata": {
        "id": "NJRCY8TKcUzi",
        "colab_type": "code",
        "outputId": "1e1ee9bd-4333-4d4e-ff91-f036985f7f90",
        "colab": {
          "base_uri": "https://localhost:8080/",
          "height": 34
        }
      },
      "source": [
        "# download to google drive\n",
        "drive.CreateFile({'id': model_file.get('id')})"
      ],
      "execution_count": 0,
      "outputs": [
        {
          "output_type": "execute_result",
          "data": {
            "text/plain": [
              "GoogleDriveFile({'id': '1UJyR3IZt1xxdkSmp3yYvjgSrDZ-Xe2Op'})"
            ]
          },
          "metadata": {
            "tags": []
          },
          "execution_count": 52
        }
      ]
    },
    {
      "cell_type": "code",
      "metadata": {
        "id": "8gpLFd_8cqP2",
        "colab_type": "code",
        "colab": {}
      },
      "source": [
        ""
      ],
      "execution_count": 0,
      "outputs": []
    }
  ]
}
